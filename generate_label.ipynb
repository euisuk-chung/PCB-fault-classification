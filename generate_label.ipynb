{
 "cells": [
  {
   "cell_type": "code",
   "execution_count": 1,
   "metadata": {},
   "outputs": [],
   "source": [
    "import os\n",
    "import pandas as pd"
   ]
  },
  {
   "cell_type": "code",
   "execution_count": 2,
   "metadata": {},
   "outputs": [],
   "source": [
    "label_df = pd.DataFrame([], columns = ['fault_' + str(x) for x in range(1,7)])\n",
    "label_df['file_name'] = ' '"
   ]
  },
  {
   "cell_type": "code",
   "execution_count": 3,
   "metadata": {},
   "outputs": [
    {
     "data": {
      "text/plain": [
       "'/home/ys/repo/dacon_cv2-master'"
      ]
     },
     "execution_count": 3,
     "metadata": {},
     "output_type": "execute_result"
    }
   ],
   "source": [
    "os.getcwd()"
   ]
  },
  {
   "cell_type": "code",
   "execution_count": 4,
   "metadata": {},
   "outputs": [],
   "source": [
    "dir_list = []\n",
    "subdir_list = []\n",
    "\n",
    "for dir in os.listdir('dataset'):\n",
    "    path = os.path.join('dataset', dir)\n",
    "    dir_list.append(path)"
   ]
  },
  {
   "cell_type": "code",
   "execution_count": 5,
   "metadata": {},
   "outputs": [
    {
     "data": {
      "text/plain": [
       "['dataset/group00041',\n",
       " 'dataset/group12300',\n",
       " 'dataset/group20085',\n",
       " 'dataset/group12100',\n",
       " 'dataset/group92000',\n",
       " 'dataset/group90100',\n",
       " 'dataset/group50600',\n",
       " 'dataset/group77000',\n",
       " 'dataset/group44000',\n",
       " 'dataset/group13000',\n",
       " 'dataset/group12000']"
      ]
     },
     "execution_count": 5,
     "metadata": {},
     "output_type": "execute_result"
    }
   ],
   "source": [
    "dir_list"
   ]
  },
  {
   "cell_type": "code",
   "execution_count": null,
   "metadata": {},
   "outputs": [],
   "source": [
    "dir_list = []\n",
    "\n",
    "for dir in os.listdir('dataset'):\n",
    "    path = os.path.join('dataset', dir)\n",
    "    dir_list.append(path)\n",
    "\n",
    "for i, dir in enumerate(dir_list):\n",
    "    for labeldir in os.listdir(os.path.join(dir, dir[-5:] + '_not')):\n",
    "        label_path = os.path.join(dir, dir[-5:] + '_not',labeldir)\n",
    "       \n",
    "        with open(label_path, 'r') as f:\n",
    "            data = f.read().splitlines()\n",
    "\n",
    "        label_onehot = [0] * 6\n",
    "        for i in range(len(data)): # 하나의 데이터 파일\n",
    "            label = int(data[i][-1])\n",
    "            label_onehot[label-1] = 1\n",
    "\n",
    "\n",
    "        # fault exist\n",
    "        # print(os.path.join(dir, dir[-5:], labeldir[:-4]+'_test.jpg'))\n",
    "        label_onehot.append(os.path.join(dir, dir[-5:], labeldir[:-4]+'_test.jpg'))\n",
    "    \n",
    "        label_df.loc[(len(label_df))] = label_onehot\n",
    "\n",
    "        # no fault\n",
    "        # print(os.path.join(dir, dir[-5:], labeldir[:-4]+'_temp.jpg'))\n",
    "        label_df.loc[len(label_df)] = [0,0,0,0,0,0, os.path.join(dir, dir[-5:], labeldir[:-4]+'_temp.jpg')]\n",
    "\n",
    "        print('saved!')"
   ]
  },
  {
   "cell_type": "code",
   "execution_count": 4,
   "metadata": {},
   "outputs": [
    {
     "data": {
      "text/html": [
       "<div>\n",
       "<style scoped>\n",
       "    .dataframe tbody tr th:only-of-type {\n",
       "        vertical-align: middle;\n",
       "    }\n",
       "\n",
       "    .dataframe tbody tr th {\n",
       "        vertical-align: top;\n",
       "    }\n",
       "\n",
       "    .dataframe thead th {\n",
       "        text-align: right;\n",
       "    }\n",
       "</style>\n",
       "<table border=\"1\" class=\"dataframe\">\n",
       "  <thead>\n",
       "    <tr style=\"text-align: right;\">\n",
       "      <th></th>\n",
       "      <th>fault_1</th>\n",
       "      <th>fault_2</th>\n",
       "      <th>fault_3</th>\n",
       "      <th>fault_4</th>\n",
       "      <th>fault_5</th>\n",
       "      <th>fault_6</th>\n",
       "      <th>file_name</th>\n",
       "    </tr>\n",
       "  </thead>\n",
       "  <tbody>\n",
       "    <tr>\n",
       "      <th>0</th>\n",
       "      <td>1</td>\n",
       "      <td>1</td>\n",
       "      <td>1</td>\n",
       "      <td>1</td>\n",
       "      <td>0</td>\n",
       "      <td>1</td>\n",
       "      <td>dataset/group00041/00041/00041101_test.jpg</td>\n",
       "    </tr>\n",
       "    <tr>\n",
       "      <th>1</th>\n",
       "      <td>0</td>\n",
       "      <td>0</td>\n",
       "      <td>0</td>\n",
       "      <td>0</td>\n",
       "      <td>0</td>\n",
       "      <td>0</td>\n",
       "      <td>dataset/group00041/00041/00041101_temp.jpg</td>\n",
       "    </tr>\n",
       "    <tr>\n",
       "      <th>2</th>\n",
       "      <td>1</td>\n",
       "      <td>0</td>\n",
       "      <td>1</td>\n",
       "      <td>1</td>\n",
       "      <td>1</td>\n",
       "      <td>1</td>\n",
       "      <td>dataset/group00041/00041/00041178_test.jpg</td>\n",
       "    </tr>\n",
       "    <tr>\n",
       "      <th>3</th>\n",
       "      <td>0</td>\n",
       "      <td>0</td>\n",
       "      <td>0</td>\n",
       "      <td>0</td>\n",
       "      <td>0</td>\n",
       "      <td>0</td>\n",
       "      <td>dataset/group00041/00041/00041178_temp.jpg</td>\n",
       "    </tr>\n",
       "    <tr>\n",
       "      <th>4</th>\n",
       "      <td>1</td>\n",
       "      <td>1</td>\n",
       "      <td>0</td>\n",
       "      <td>1</td>\n",
       "      <td>0</td>\n",
       "      <td>1</td>\n",
       "      <td>dataset/group00041/00041/00041122_test.jpg</td>\n",
       "    </tr>\n",
       "    <tr>\n",
       "      <th>...</th>\n",
       "      <td>...</td>\n",
       "      <td>...</td>\n",
       "      <td>...</td>\n",
       "      <td>...</td>\n",
       "      <td>...</td>\n",
       "      <td>...</td>\n",
       "      <td>...</td>\n",
       "    </tr>\n",
       "    <tr>\n",
       "      <th>2995</th>\n",
       "      <td>0</td>\n",
       "      <td>0</td>\n",
       "      <td>0</td>\n",
       "      <td>0</td>\n",
       "      <td>0</td>\n",
       "      <td>0</td>\n",
       "      <td>dataset/group12000/12000/12000017_temp.jpg</td>\n",
       "    </tr>\n",
       "    <tr>\n",
       "      <th>2996</th>\n",
       "      <td>1</td>\n",
       "      <td>1</td>\n",
       "      <td>0</td>\n",
       "      <td>1</td>\n",
       "      <td>1</td>\n",
       "      <td>1</td>\n",
       "      <td>dataset/group12000/12000/12000068_test.jpg</td>\n",
       "    </tr>\n",
       "    <tr>\n",
       "      <th>2997</th>\n",
       "      <td>0</td>\n",
       "      <td>0</td>\n",
       "      <td>0</td>\n",
       "      <td>0</td>\n",
       "      <td>0</td>\n",
       "      <td>0</td>\n",
       "      <td>dataset/group12000/12000/12000068_temp.jpg</td>\n",
       "    </tr>\n",
       "    <tr>\n",
       "      <th>2998</th>\n",
       "      <td>1</td>\n",
       "      <td>1</td>\n",
       "      <td>1</td>\n",
       "      <td>1</td>\n",
       "      <td>1</td>\n",
       "      <td>1</td>\n",
       "      <td>dataset/group12000/12000/12000119_test.jpg</td>\n",
       "    </tr>\n",
       "    <tr>\n",
       "      <th>2999</th>\n",
       "      <td>0</td>\n",
       "      <td>0</td>\n",
       "      <td>0</td>\n",
       "      <td>0</td>\n",
       "      <td>0</td>\n",
       "      <td>0</td>\n",
       "      <td>dataset/group12000/12000/12000119_temp.jpg</td>\n",
       "    </tr>\n",
       "  </tbody>\n",
       "</table>\n",
       "<p>3000 rows × 7 columns</p>\n",
       "</div>"
      ],
      "text/plain": [
       "     fault_1 fault_2 fault_3 fault_4 fault_5 fault_6  \\\n",
       "0          1       1       1       1       0       1   \n",
       "1          0       0       0       0       0       0   \n",
       "2          1       0       1       1       1       1   \n",
       "3          0       0       0       0       0       0   \n",
       "4          1       1       0       1       0       1   \n",
       "...      ...     ...     ...     ...     ...     ...   \n",
       "2995       0       0       0       0       0       0   \n",
       "2996       1       1       0       1       1       1   \n",
       "2997       0       0       0       0       0       0   \n",
       "2998       1       1       1       1       1       1   \n",
       "2999       0       0       0       0       0       0   \n",
       "\n",
       "                                       file_name  \n",
       "0     dataset/group00041/00041/00041101_test.jpg  \n",
       "1     dataset/group00041/00041/00041101_temp.jpg  \n",
       "2     dataset/group00041/00041/00041178_test.jpg  \n",
       "3     dataset/group00041/00041/00041178_temp.jpg  \n",
       "4     dataset/group00041/00041/00041122_test.jpg  \n",
       "...                                          ...  \n",
       "2995  dataset/group12000/12000/12000017_temp.jpg  \n",
       "2996  dataset/group12000/12000/12000068_test.jpg  \n",
       "2997  dataset/group12000/12000/12000068_temp.jpg  \n",
       "2998  dataset/group12000/12000/12000119_test.jpg  \n",
       "2999  dataset/group12000/12000/12000119_temp.jpg  \n",
       "\n",
       "[3000 rows x 7 columns]"
      ]
     },
     "execution_count": 4,
     "metadata": {},
     "output_type": "execute_result"
    }
   ],
   "source": [
    "label_df"
   ]
  },
  {
   "cell_type": "code",
   "execution_count": 5,
   "metadata": {},
   "outputs": [],
   "source": [
    "label_df.to_csv('label.csv', header=True)"
   ]
  },
  {
   "cell_type": "code",
   "execution_count": 2,
   "metadata": {},
   "outputs": [],
   "source": [
    "label_df = pd.read_csv('label.csv')"
   ]
  },
  {
   "cell_type": "code",
   "execution_count": 52,
   "metadata": {},
   "outputs": [],
   "source": [
    "import numpy as np\n",
    "label_type = np.unique(label_df.iloc[:,1:-1], axis=0)"
   ]
  },
  {
   "cell_type": "code",
   "execution_count": null,
   "metadata": {},
   "outputs": [],
   "source": []
  }
 ],
 "metadata": {
  "kernelspec": {
   "display_name": "Python 3",
   "language": "python",
   "name": "python3"
  },
  "language_info": {
   "codemirror_mode": {
    "name": "ipython",
    "version": 3
   },
   "file_extension": ".py",
   "mimetype": "text/x-python",
   "name": "python",
   "nbconvert_exporter": "python",
   "pygments_lexer": "ipython3",
   "version": "3.6.9"
  }
 },
 "nbformat": 4,
 "nbformat_minor": 4
}